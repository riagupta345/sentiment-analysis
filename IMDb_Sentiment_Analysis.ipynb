{
  "nbformat": 4,
  "nbformat_minor": 0,
  "metadata": {
    "colab": {
      "name": "IMDb_Sentiment_Analysis.ipynb",
      "provenance": [],
      "collapsed_sections": []
    },
    "kernelspec": {
      "name": "python3",
      "display_name": "Python 3"
    },
    "accelerator": "TPU"
  },
  "cells": [
    {
      "cell_type": "code",
      "metadata": {
        "id": "hnHBTg6JsWOO",
        "colab": {
          "base_uri": "https://localhost:8080/",
          "height": 34
        },
        "outputId": "532abc8d-673f-4989-a406-1a6f2a501c34"
      },
      "source": [
        "from keras.datasets import imdb\n",
        "import numpy as np"
      ],
      "execution_count": null,
      "outputs": [
        {
          "output_type": "stream",
          "text": [
            "Using TensorFlow backend.\n"
          ],
          "name": "stderr"
        }
      ]
    },
    {
      "cell_type": "code",
      "metadata": {
        "id": "EA3hu8VoAVHu"
      },
      "source": [
        "# !pip install numpy==1.16.2"
      ],
      "execution_count": null,
      "outputs": []
    },
    {
      "cell_type": "code",
      "metadata": {
        "id": "fm2GVAOXyWhS",
        "colab": {
          "base_uri": "https://localhost:8080/",
          "height": 34
        },
        "outputId": "6b0294bf-9447-4796-dd69-7cf26c11e7ad"
      },
      "source": [
        "print(np.__version__)"
      ],
      "execution_count": null,
      "outputs": [
        {
          "output_type": "stream",
          "text": [
            "1.16.2\n"
          ],
          "name": "stdout"
        }
      ]
    },
    {
      "cell_type": "code",
      "metadata": {
        "id": "KH4yzUJ7u2aF"
      },
      "source": [
        "numwords = 22000\n",
        "((XT, YT), (Xt, Yt)) = imdb.load_data(num_words=numwords)"
      ],
      "execution_count": null,
      "outputs": []
    },
    {
      "cell_type": "code",
      "metadata": {
        "id": "A3nKZVp2xO6d",
        "colab": {
          "base_uri": "https://localhost:8080/",
          "height": 85
        },
        "outputId": "e39d77be-a9ee-4c8b-f81e-9178678c6f1b"
      },
      "source": [
        "print(XT.shape)\n",
        "print(YT.shape)\n",
        "\n",
        "print(Xt.shape)\n",
        "print(Yt.shape)"
      ],
      "execution_count": null,
      "outputs": [
        {
          "output_type": "stream",
          "text": [
            "(25000,)\n",
            "(25000,)\n",
            "(25000,)\n",
            "(25000,)\n"
          ],
          "name": "stdout"
        }
      ]
    },
    {
      "cell_type": "code",
      "metadata": {
        "id": "lsTRKT7ayq4b",
        "colab": {
          "base_uri": "https://localhost:8080/",
          "height": 54
        },
        "outputId": "09a4f8b9-39cc-414d-e47b-6c247a1e0841"
      },
      "source": [
        "print(XT[0])"
      ],
      "execution_count": null,
      "outputs": [
        {
          "output_type": "stream",
          "text": [
            "[1, 14, 22, 16, 43, 530, 973, 1622, 1385, 65, 458, 4468, 66, 3941, 4, 173, 36, 256, 5, 25, 100, 43, 838, 112, 50, 670, 2, 9, 35, 480, 284, 5, 150, 4, 172, 112, 167, 21631, 336, 385, 39, 4, 172, 4536, 1111, 17, 546, 38, 13, 447, 4, 192, 50, 16, 6, 147, 2025, 19, 14, 22, 4, 1920, 4613, 469, 4, 22, 71, 87, 12, 16, 43, 530, 38, 76, 15, 13, 1247, 4, 22, 17, 515, 17, 12, 16, 626, 18, 19193, 5, 62, 386, 12, 8, 316, 8, 106, 5, 4, 2223, 5244, 16, 480, 66, 3785, 33, 4, 130, 12, 16, 38, 619, 5, 25, 124, 51, 36, 135, 48, 25, 1415, 33, 6, 22, 12, 215, 28, 77, 52, 5, 14, 407, 16, 82, 10311, 8, 4, 107, 117, 5952, 15, 256, 4, 2, 7, 3766, 5, 723, 36, 71, 43, 530, 476, 26, 400, 317, 46, 7, 4, 12118, 1029, 13, 104, 88, 4, 381, 15, 297, 98, 32, 2071, 56, 26, 141, 6, 194, 7486, 18, 4, 226, 22, 21, 134, 476, 26, 480, 5, 144, 30, 5535, 18, 51, 36, 28, 224, 92, 25, 104, 4, 226, 65, 16, 38, 1334, 88, 12, 16, 283, 5, 16, 4472, 113, 103, 32, 15, 16, 5345, 19, 178, 32]\n"
          ],
          "name": "stdout"
        }
      ]
    },
    {
      "cell_type": "code",
      "metadata": {
        "id": "oXd6Oa81y3q3"
      },
      "source": [
        "word2idx = imdb.get_word_index()"
      ],
      "execution_count": null,
      "outputs": []
    },
    {
      "cell_type": "code",
      "metadata": {
        "id": "o57QSF6ty_eE",
        "colab": {
          "base_uri": "https://localhost:8080/",
          "height": 34
        },
        "outputId": "ae851d63-7b18-48db-c89b-5b7e96c1054f"
      },
      "source": [
        "print(type(word2idx))"
      ],
      "execution_count": null,
      "outputs": [
        {
          "output_type": "stream",
          "text": [
            "<class 'dict'>\n"
          ],
          "name": "stdout"
        }
      ]
    },
    {
      "cell_type": "code",
      "metadata": {
        "id": "bkjxV9bQzBdu",
        "colab": {
          "base_uri": "https://localhost:8080/",
          "height": 34
        },
        "outputId": "b2711250-fb72-471d-b905-cdcbda579a9f"
      },
      "source": [
        "print(len(word2idx))"
      ],
      "execution_count": null,
      "outputs": [
        {
          "output_type": "stream",
          "text": [
            "88584\n"
          ],
          "name": "stdout"
        }
      ]
    },
    {
      "cell_type": "code",
      "metadata": {
        "id": "AFd_k87GzyW1",
        "colab": {
          "base_uri": "https://localhost:8080/",
          "height": 34
        },
        "outputId": "5d4414e5-d2d1-4c9f-9bed-73aa3ba9671f"
      },
      "source": [
        "print(word2idx['had'])"
      ],
      "execution_count": null,
      "outputs": [
        {
          "output_type": "stream",
          "text": [
            "66\n"
          ],
          "name": "stdout"
        }
      ]
    },
    {
      "cell_type": "code",
      "metadata": {
        "id": "OQxMM0Ymz2se"
      },
      "source": [
        "idx2word = dict([value, key] for (key, value) in word2idx.items())"
      ],
      "execution_count": null,
      "outputs": []
    },
    {
      "cell_type": "code",
      "metadata": {
        "id": "RsL7i9Ed0JFk",
        "colab": {
          "base_uri": "https://localhost:8080/",
          "height": 34
        },
        "outputId": "e7543c6c-9618-49d8-8a83-c4e87b790635"
      },
      "source": [
        "print(type(idx2word))"
      ],
      "execution_count": null,
      "outputs": [
        {
          "output_type": "stream",
          "text": [
            "<class 'dict'>\n"
          ],
          "name": "stdout"
        }
      ]
    },
    {
      "cell_type": "code",
      "metadata": {
        "id": "G6_93Izi0S-I",
        "colab": {
          "base_uri": "https://localhost:8080/",
          "height": 34
        },
        "outputId": "6770afe9-9cc3-40ae-d7e6-d23215131e4e"
      },
      "source": [
        "print(len(idx2word))"
      ],
      "execution_count": null,
      "outputs": [
        {
          "output_type": "stream",
          "text": [
            "88584\n"
          ],
          "name": "stdout"
        }
      ]
    },
    {
      "cell_type": "code",
      "metadata": {
        "id": "rg2RtyxS0VmW"
      },
      "source": [
        "actual_review = ' '.join(idx2word.get(idx-3, '?') for idx in XT[0])"
      ],
      "execution_count": null,
      "outputs": []
    },
    {
      "cell_type": "code",
      "metadata": {
        "id": "xjaMrDQa05UM",
        "colab": {
          "base_uri": "https://localhost:8080/",
          "height": 54
        },
        "outputId": "02ec451a-eebd-497d-ef50-245ba011eca4"
      },
      "source": [
        "print(actual_review)"
      ],
      "execution_count": null,
      "outputs": [
        {
          "output_type": "stream",
          "text": [
            "? this film was just brilliant casting location scenery story direction everyone's really suited the part they played and you could just imagine being there robert ? is an amazing actor and now the same being director norman's father came from the same scottish island as myself so i loved the fact there was a real connection with this film the witty remarks throughout the film were great it was just brilliant so much that i bought the film as soon as it was released for retail and would recommend it to everyone to watch and the fly fishing was amazing really cried at the end it was so sad and you know what they say if you cry at a film it must have been good and this definitely was also congratulations to the two little boy's that played the ? of norman and paul they were just brilliant children are often left out of the praising list i think because the stars that play them all grown up are such a big profile for the whole film but these children are amazing and should be praised for what they have done don't you think the whole story was so lovely because it was true and was someone's life after all that was shared with us all\n"
          ],
          "name": "stdout"
        }
      ]
    },
    {
      "cell_type": "markdown",
      "metadata": {
        "id": "0P5OU6bf1M9q"
      },
      "source": [
        "### Vectorizing the Data\n",
        "- Vocab size = 10,000\n",
        "- Every sentence is represented by a vector of shape (10000, ) and is composed of 0s and 1s\n",
        "- If current sentence has ith word of vocab , ith index is 1 else 0"
      ]
    },
    {
      "cell_type": "code",
      "metadata": {
        "id": "UjKRApJe1ORm"
      },
      "source": [
        "def vectorize_sentences(sentences, dim=numwords):\n",
        "  outputs = np.zeros((len(sentences), dim))\n",
        "  for i, idx in enumerate(sentences):\n",
        "    outputs[i, idx] = 1\n",
        "    \n",
        "  return outputs"
      ],
      "execution_count": null,
      "outputs": []
    },
    {
      "cell_type": "code",
      "metadata": {
        "id": "0nmu9INj2QIG"
      },
      "source": [
        "X_train = vectorize_sentences(XT)\n",
        "X_test = vectorize_sentences(Xt)"
      ],
      "execution_count": null,
      "outputs": []
    },
    {
      "cell_type": "code",
      "metadata": {
        "id": "BIiQrcZW2YSD",
        "colab": {
          "base_uri": "https://localhost:8080/",
          "height": 85
        },
        "outputId": "ae01b3d1-ad62-4f37-b83e-2dabc2c0ebfe"
      },
      "source": [
        "print(X_train.shape)\n",
        "print(type(X_train))\n",
        "\n",
        "print(X_test.shape)\n",
        "print(type(X_test))"
      ],
      "execution_count": null,
      "outputs": [
        {
          "output_type": "stream",
          "text": [
            "(25000, 22000)\n",
            "<class 'numpy.ndarray'>\n",
            "(25000, 22000)\n",
            "<class 'numpy.ndarray'>\n"
          ],
          "name": "stdout"
        }
      ]
    },
    {
      "cell_type": "code",
      "metadata": {
        "id": "iL5sI8fd2wxJ",
        "colab": {
          "base_uri": "https://localhost:8080/",
          "height": 34
        },
        "outputId": "b3bce695-2c9f-443a-9690-37bbfe7a1c24"
      },
      "source": [
        "print(X_train[0])"
      ],
      "execution_count": null,
      "outputs": [
        {
          "output_type": "stream",
          "text": [
            "[0. 1. 1. ... 0. 0. 0.]\n"
          ],
          "name": "stdout"
        }
      ]
    },
    {
      "cell_type": "code",
      "metadata": {
        "id": "owKIcyYC2jGl",
        "colab": {
          "base_uri": "https://localhost:8080/",
          "height": 34
        },
        "outputId": "f6c35996-deb8-44c3-a822-9663e690b9c4"
      },
      "source": [
        "print(YT[:10])"
      ],
      "execution_count": null,
      "outputs": [
        {
          "output_type": "stream",
          "text": [
            "[1 0 0 1 0 0 1 0 1 0]\n"
          ],
          "name": "stdout"
        }
      ]
    },
    {
      "cell_type": "code",
      "metadata": {
        "id": "Uagw6QmE2Z_c"
      },
      "source": [
        "Y_train = np.asarray(YT).astype('float32')\n",
        "Y_test = np.asarray(Yt).astype('float32')"
      ],
      "execution_count": null,
      "outputs": []
    },
    {
      "cell_type": "code",
      "metadata": {
        "id": "jZbPhoSs2_bh",
        "colab": {
          "base_uri": "https://localhost:8080/",
          "height": 34
        },
        "outputId": "203fcff9-4d0e-4b64-83a6-58a65f30fbc2"
      },
      "source": [
        "print(Y_train[:10])"
      ],
      "execution_count": null,
      "outputs": [
        {
          "output_type": "stream",
          "text": [
            "[1. 0. 0. 1. 0. 0. 1. 0. 1. 0.]\n"
          ],
          "name": "stdout"
        }
      ]
    },
    {
      "cell_type": "markdown",
      "metadata": {
        "id": "GyY9iA7NqTe3"
      },
      "source": [
        "### Defining Model Architecture\n",
        "- Use fully connected (Dense) layers with ReLU activation\n",
        "- 2 hidden layers with 16 units each\n",
        "- 1 output unit with 1 unit (sigmoid activation)"
      ]
    },
    {
      "cell_type": "code",
      "metadata": {
        "id": "CBxUklJaqmMX"
      },
      "source": [
        "from keras import models\n",
        "from keras.layers import Dense"
      ],
      "execution_count": null,
      "outputs": []
    },
    {
      "cell_type": "markdown",
      "metadata": {
        "id": "PZBemB82-0LC"
      },
      "source": [
        "#### Define the model"
      ]
    },
    {
      "cell_type": "code",
      "metadata": {
        "id": "35QPnyUTq1_h",
        "colab": {
          "base_uri": "https://localhost:8080/",
          "height": 88
        },
        "outputId": "c65791f1-cf80-4576-90f7-1698c84b410d"
      },
      "source": [
        "model = models.Sequential()\n",
        "\n",
        "model.add(Dense(32, activation='relu', input_shape=(numwords, )))\n",
        "model.add(Dense(16, activation='relu'))\n",
        "model.add(Dense(1, activation='sigmoid'))"
      ],
      "execution_count": null,
      "outputs": [
        {
          "output_type": "stream",
          "text": [
            "WARNING:tensorflow:From /usr/local/lib/python3.6/dist-packages/tensorflow/python/framework/op_def_library.py:263: colocate_with (from tensorflow.python.framework.ops) is deprecated and will be removed in a future version.\n",
            "Instructions for updating:\n",
            "Colocations handled automatically by placer.\n"
          ],
          "name": "stdout"
        }
      ]
    },
    {
      "cell_type": "markdown",
      "metadata": {
        "id": "N45FkIki-6vG"
      },
      "source": [
        "#### Compile the model"
      ]
    },
    {
      "cell_type": "code",
      "metadata": {
        "id": "iXDxKYRXr6FC"
      },
      "source": [
        "# Specify:\n",
        "# 1. Loss (measure how good/bad model performs)\n",
        "# 2. Optimizer (to adjust weights in backprop to minimise loss) \n",
        "# 3. Metrics (how to compare performance)\n",
        "\n",
        "\n",
        "model.compile(optimizer='rmsprop', loss='binary_crossentropy', metrics=['accuracy'])"
      ],
      "execution_count": null,
      "outputs": []
    },
    {
      "cell_type": "code",
      "metadata": {
        "id": "bNGHvcp5szj4",
        "colab": {
          "base_uri": "https://localhost:8080/",
          "height": 238
        },
        "outputId": "fe272e8f-65d0-42bb-8558-4ee2f2ce3021"
      },
      "source": [
        "model.summary()"
      ],
      "execution_count": null,
      "outputs": [
        {
          "output_type": "stream",
          "text": [
            "_________________________________________________________________\n",
            "Layer (type)                 Output Shape              Param #   \n",
            "=================================================================\n",
            "dense_1 (Dense)              (None, 32)                704032    \n",
            "_________________________________________________________________\n",
            "dense_2 (Dense)              (None, 16)                528       \n",
            "_________________________________________________________________\n",
            "dense_3 (Dense)              (None, 1)                 17        \n",
            "=================================================================\n",
            "Total params: 704,577\n",
            "Trainable params: 704,577\n",
            "Non-trainable params: 0\n",
            "_________________________________________________________________\n"
          ],
          "name": "stdout"
        }
      ]
    },
    {
      "cell_type": "code",
      "metadata": {
        "id": "VvjzhaWys9hA"
      },
      "source": [
        "# Layer 1 : 10000 inputs x 16 units + 16 bias terms        => 160016 parameters\n",
        "# Layer 2 : 16 prev layer units x 16 units + 16 bias terms => 272 parameters\n",
        "# Layer 3 : 16 prev layer units x 1 unit + 1 bias term     => 17 parameters"
      ],
      "execution_count": null,
      "outputs": []
    },
    {
      "cell_type": "markdown",
      "metadata": {
        "id": "Lw8q8FAx_AzZ"
      },
      "source": [
        "#### Training and Validation"
      ]
    },
    {
      "cell_type": "code",
      "metadata": {
        "id": "5nhVpmdu_Lna"
      },
      "source": [
        "# We have more number of parameters than number of training examples, so it is highly likely that the model will overfit\n",
        "# Solution: We divide 25000 examples of training set into training set + validation set (20000 + 5000)\n",
        "# We train on training set and check accuracy of model on validation set\n",
        "# When validation accuracy starts decreasing: means model is overfitting (ie, it tries to learn the examples) ==> We stop at this point => EARLY STOPPING"
      ],
      "execution_count": null,
      "outputs": []
    },
    {
      "cell_type": "code",
      "metadata": {
        "id": "MqWqtzDx_oqw"
      },
      "source": [
        "X_val = X_train[:5000]\n",
        "Y_val = Y_train[:5000]\n",
        "\n",
        "X_train_new = X_train[5000:]\n",
        "Y_train_new = Y_train[5000:]"
      ],
      "execution_count": null,
      "outputs": []
    },
    {
      "cell_type": "code",
      "metadata": {
        "id": "ijOQOk5jAOgH",
        "colab": {
          "base_uri": "https://localhost:8080/",
          "height": 785
        },
        "outputId": "579fe0f4-cdb3-4b17-8a0d-9ab2f38e90f5"
      },
      "source": [
        "hist = model.fit(X_train_new, Y_train_new, epochs=20, validation_data=(X_val, Y_val), batch_size=512)"
      ],
      "execution_count": null,
      "outputs": [
        {
          "output_type": "stream",
          "text": [
            "WARNING:tensorflow:From /usr/local/lib/python3.6/dist-packages/tensorflow/python/ops/math_ops.py:3066: to_int32 (from tensorflow.python.ops.math_ops) is deprecated and will be removed in a future version.\n",
            "Instructions for updating:\n",
            "Use tf.cast instead.\n",
            "Train on 20000 samples, validate on 5000 samples\n",
            "Epoch 1/20\n",
            "20000/20000 [==============================] - 6s 314us/step - loss: 0.4482 - acc: 0.8118 - val_loss: 0.3370 - val_acc: 0.8678\n",
            "Epoch 2/20\n",
            "20000/20000 [==============================] - 6s 287us/step - loss: 0.2335 - acc: 0.9218 - val_loss: 0.2725 - val_acc: 0.8978\n",
            "Epoch 3/20\n",
            "20000/20000 [==============================] - 6s 275us/step - loss: 0.1570 - acc: 0.9487 - val_loss: 0.2625 - val_acc: 0.9024\n",
            "Epoch 4/20\n",
            "20000/20000 [==============================] - 6s 277us/step - loss: 0.1147 - acc: 0.9637 - val_loss: 0.2804 - val_acc: 0.8998\n",
            "Epoch 5/20\n",
            "20000/20000 [==============================] - 5s 274us/step - loss: 0.0853 - acc: 0.9734 - val_loss: 0.2967 - val_acc: 0.8966\n",
            "Epoch 6/20\n",
            "20000/20000 [==============================] - 6s 276us/step - loss: 0.0601 - acc: 0.9832 - val_loss: 0.3278 - val_acc: 0.8924\n",
            "Epoch 7/20\n",
            "20000/20000 [==============================] - 6s 277us/step - loss: 0.0463 - acc: 0.9869 - val_loss: 0.3720 - val_acc: 0.8902\n",
            "Epoch 8/20\n",
            "20000/20000 [==============================] - 6s 277us/step - loss: 0.0307 - acc: 0.9924 - val_loss: 0.4300 - val_acc: 0.8832\n",
            "Epoch 9/20\n",
            "20000/20000 [==============================] - 6s 275us/step - loss: 0.0200 - acc: 0.9959 - val_loss: 0.4519 - val_acc: 0.8834\n",
            "Epoch 10/20\n",
            "20000/20000 [==============================] - 6s 278us/step - loss: 0.0162 - acc: 0.9960 - val_loss: 0.4803 - val_acc: 0.8836\n",
            "Epoch 11/20\n",
            "20000/20000 [==============================] - 6s 275us/step - loss: 0.0078 - acc: 0.9987 - val_loss: 0.5321 - val_acc: 0.8802\n",
            "Epoch 12/20\n",
            "20000/20000 [==============================] - 6s 278us/step - loss: 0.0079 - acc: 0.9984 - val_loss: 0.6532 - val_acc: 0.8686\n",
            "Epoch 13/20\n",
            "20000/20000 [==============================] - 6s 276us/step - loss: 0.0076 - acc: 0.9983 - val_loss: 0.6063 - val_acc: 0.8810\n",
            "Epoch 14/20\n",
            "20000/20000 [==============================] - 6s 278us/step - loss: 0.0016 - acc: 1.0000 - val_loss: 0.6397 - val_acc: 0.8812\n",
            "Epoch 15/20\n",
            "20000/20000 [==============================] - 6s 276us/step - loss: 0.0055 - acc: 0.9981 - val_loss: 0.7014 - val_acc: 0.8796\n",
            "Epoch 16/20\n",
            "20000/20000 [==============================] - 6s 277us/step - loss: 5.3261e-04 - acc: 1.0000 - val_loss: 0.7226 - val_acc: 0.8794\n",
            "Epoch 17/20\n",
            "20000/20000 [==============================] - 6s 276us/step - loss: 3.8290e-04 - acc: 1.0000 - val_loss: 0.7636 - val_acc: 0.8782\n",
            "Epoch 18/20\n",
            "20000/20000 [==============================] - 6s 278us/step - loss: 0.0054 - acc: 0.9986 - val_loss: 0.8050 - val_acc: 0.8772\n",
            "Epoch 19/20\n",
            "20000/20000 [==============================] - 6s 277us/step - loss: 1.3585e-04 - acc: 1.0000 - val_loss: 0.8238 - val_acc: 0.8750\n",
            "Epoch 20/20\n",
            "20000/20000 [==============================] - 6s 276us/step - loss: 1.0058e-04 - acc: 1.0000 - val_loss: 0.8479 - val_acc: 0.8768\n"
          ],
          "name": "stdout"
        }
      ]
    },
    {
      "cell_type": "code",
      "metadata": {
        "id": "IltxrbOLBpmb",
        "colab": {
          "base_uri": "https://localhost:8080/",
          "height": 34
        },
        "outputId": "a58fb62e-4642-4803-a104-e57da99ebcf9"
      },
      "source": [
        "print(type(hist))"
      ],
      "execution_count": null,
      "outputs": [
        {
          "output_type": "stream",
          "text": [
            "<class 'keras.callbacks.History'>\n"
          ],
          "name": "stdout"
        }
      ]
    },
    {
      "cell_type": "code",
      "metadata": {
        "id": "4y3UztShCdrd"
      },
      "source": [
        "h = hist.history    # Dictionary which stores accuracy, loss, validation accuracy and validation loss"
      ],
      "execution_count": null,
      "outputs": []
    },
    {
      "cell_type": "code",
      "metadata": {
        "id": "InnidtP0Cjhp",
        "colab": {
          "base_uri": "https://localhost:8080/",
          "height": 34
        },
        "outputId": "1b61f86b-4275-48c3-db11-8b43925dc6a5"
      },
      "source": [
        "print(type(h))"
      ],
      "execution_count": null,
      "outputs": [
        {
          "output_type": "stream",
          "text": [
            "<class 'dict'>\n"
          ],
          "name": "stdout"
        }
      ]
    },
    {
      "cell_type": "code",
      "metadata": {
        "id": "OhznQHyHCxg9",
        "colab": {
          "base_uri": "https://localhost:8080/",
          "height": 34
        },
        "outputId": "5a680f50-8836-41ac-c496-9ba2c41c61e4"
      },
      "source": [
        "print(h.keys())"
      ],
      "execution_count": null,
      "outputs": [
        {
          "output_type": "stream",
          "text": [
            "dict_keys(['val_loss', 'val_acc', 'loss', 'acc'])\n"
          ],
          "name": "stdout"
        }
      ]
    },
    {
      "cell_type": "code",
      "metadata": {
        "id": "h30SlCYJHSWZ"
      },
      "source": [
        "import matplotlib.pyplot as plt"
      ],
      "execution_count": null,
      "outputs": []
    },
    {
      "cell_type": "code",
      "metadata": {
        "id": "KZADWU3gHDD5",
        "colab": {
          "base_uri": "https://localhost:8080/",
          "height": 361
        },
        "outputId": "623e59c3-bc78-49bd-f42d-4b552b4d9fbf"
      },
      "source": [
        "# With 20 epochs\n",
        "\n",
        "plt.style.use(\"seaborn\")\n",
        "plt.plot(h['loss'], label='Training Loss')\n",
        "plt.plot(h['val_loss'], label='Validation Loss')\n",
        "plt.xlabel(\"Epochs\")\n",
        "plt.ylabel(\"Loss\")\n",
        "plt.legend()\n",
        "plt.show()"
      ],
      "execution_count": null,
      "outputs": [
        {
          "output_type": "display_data",
          "data": {
            "image/png": "[encoded data removed]",
            "text/plain": [
              "<Figure size 576x396 with 1 Axes>"
            ]
          },
          "metadata": {
            "tags": []
          }
        }
      ]
    },
    {
      "cell_type": "code",
      "metadata": {
        "id": "jU5QsFAIHnAH",
        "colab": {
          "base_uri": "https://localhost:8080/",
          "height": 361
        },
        "outputId": "b8bb193c-34d8-4f34-ebf5-f7ae439f1506"
      },
      "source": [
        "# With 20 epochs\n",
        "\n",
        "plt.plot(h['acc'], label='Training Accuracy')\n",
        "plt.plot(h['val_acc'], label='Validation Accuracy')\n",
        "plt.xlabel(\"Epochs\")\n",
        "plt.ylabel(\"Accuracy\")\n",
        "plt.legend()\n",
        "plt.show()"
      ],
      "execution_count": null,
      "outputs": [
        {
          "output_type": "display_data",
          "data": {
            "image/png": "[encoded data removed]",
            "text/plain": [
              "<Figure size 576x396 with 1 Axes>"
            ]
          },
          "metadata": {
            "tags": []
          }
        }
      ]
    },
    {
      "cell_type": "code",
      "metadata": {
        "id": "rFfQzNRuI6hY",
        "colab": {
          "base_uri": "https://localhost:8080/",
          "height": 68
        },
        "outputId": "1dfd8d50-f6c4-4421-dbbb-5343a8542d5e"
      },
      "source": [
        "ev = model.evaluate(X_train, Y_train)\n",
        "print(\"Final Loss:\", ev[0])\n",
        "print(\"Final Accuracy:\", ev[1]*100, \"%\")"
      ],
      "execution_count": null,
      "outputs": [
        {
          "output_type": "stream",
          "text": [
            "25000/25000 [==============================] - 6s 227us/step\n",
            "Final Loss: 0.16965725802409448\n",
            "Final Accuracy: 97.536 %\n"
          ],
          "name": "stdout"
        }
      ]
    },
    {
      "cell_type": "code",
      "metadata": {
        "id": "N6UiCS8pIEDL",
        "colab": {
          "base_uri": "https://localhost:8080/",
          "height": 68
        },
        "outputId": "100df837-e7d8-4bbb-ce77-8f6ff26d0e32"
      },
      "source": [
        "ev = model.evaluate(X_test, Y_test)\n",
        "print(\"Final Loss:\", ev[0])\n",
        "print(\"Final Accuracy:\", ev[1]*100, \"%\")"
      ],
      "execution_count": null,
      "outputs": [
        {
          "output_type": "stream",
          "text": [
            "25000/25000 [==============================] - 6s 224us/step\n",
            "Final Loss: 1.0033543241906167\n",
            "Final Accuracy: 85.016 %\n"
          ],
          "name": "stdout"
        }
      ]
    },
    {
      "cell_type": "code",
      "metadata": {
        "id": "UVfIomezJCUm"
      },
      "source": [
        ""
      ],
      "execution_count": null,
      "outputs": []
    },
    {
      "cell_type": "code",
      "metadata": {
        "id": "j_wPyqNMKBuC"
      },
      "source": [
        ""
      ],
      "execution_count": null,
      "outputs": []
    },
    {
      "cell_type": "code",
      "metadata": {
        "id": "xhD4zpRAKB4K",
        "colab": {
          "base_uri": "https://localhost:8080/",
          "height": 136
        },
        "outputId": "4ea38cca-051e-426d-f0b0-54550409aa14"
      },
      "source": [
        "model = models.Sequential()\n",
        "\n",
        "# model.add(Dense(64, activation='relu', input_shape=(numwords, )))\n",
        "model.add(Dense(32, activation='relu', input_shape=(numwords, )))\n",
        "model.add(Dense(16, activation='relu'))\n",
        "model.add(Dense(1, activation='sigmoid'))\n",
        "\n",
        "model.compile(optimizer='rmsprop', loss='binary_crossentropy', metrics=['accuracy'])\n",
        "\n",
        "# model.summary()\n",
        "\n",
        "hist = model.fit(X_train_new, Y_train_new, epochs=3, validation_data=(X_val, Y_val), batch_size=512)\n",
        "h = hist.history"
      ],
      "execution_count": null,
      "outputs": [
        {
          "output_type": "stream",
          "text": [
            "Train on 20000 samples, validate on 5000 samples\n",
            "Epoch 1/3\n",
            "20000/20000 [==============================] - 6s 301us/step - loss: 0.4456 - acc: 0.8127 - val_loss: 0.3157 - val_acc: 0.8824\n",
            "Epoch 2/3\n",
            "20000/20000 [==============================] - 6s 284us/step - loss: 0.2289 - acc: 0.9226 - val_loss: 0.2714 - val_acc: 0.8928\n",
            "Epoch 3/3\n",
            "20000/20000 [==============================] - 6s 285us/step - loss: 0.1596 - acc: 0.9479 - val_loss: 0.2963 - val_acc: 0.8842\n"
          ],
          "name": "stdout"
        }
      ]
    },
    {
      "cell_type": "code",
      "metadata": {
        "id": "32_19kchJqYk",
        "colab": {
          "base_uri": "https://localhost:8080/",
          "height": 361
        },
        "outputId": "c3b7aa0f-5b18-4d74-f4b3-b3107a13c13d"
      },
      "source": [
        "# With 3 or 4 epochs\n",
        "\n",
        "plt.style.use(\"seaborn\")\n",
        "plt.plot(h['loss'], label='Training Loss')\n",
        "plt.plot(h['val_loss'], label='Validation Loss')\n",
        "plt.xlabel(\"Epochs\")\n",
        "plt.ylabel(\"Loss\")\n",
        "plt.legend()\n",
        "plt.show()"
      ],
      "execution_count": null,
      "outputs": [
        {
          "output_type": "display_data",
          "data": {
            "image/png": "[encoded data removed]",
            "text/plain": [
              "<Figure size 576x396 with 1 Axes>"
            ]
          },
          "metadata": {
            "tags": []
          }
        }
      ]
    },
    {
      "cell_type": "code",
      "metadata": {
        "id": "Tr5jiiWwJtEl",
        "colab": {
          "base_uri": "https://localhost:8080/",
          "height": 361
        },
        "outputId": "97c523d7-c8eb-4510-825a-7d23fdedfb5b"
      },
      "source": [
        "# With 3 or 4 epochs\n",
        "\n",
        "plt.plot(h['acc'], label='Training Accuracy')\n",
        "plt.plot(h['val_acc'], label='Validation Accuracy')\n",
        "plt.xlabel(\"Epochs\")\n",
        "plt.ylabel(\"Accuracy\")\n",
        "plt.legend()\n",
        "plt.show()"
      ],
      "execution_count": null,
      "outputs": [
        {
          "output_type": "display_data",
          "data": {
            "image/png": "[encoded data removed]",
            "text/plain": [
              "<Figure size 576x396 with 1 Axes>"
            ]
          },
          "metadata": {
            "tags": []
          }
        }
      ]
    },
    {
      "cell_type": "code",
      "metadata": {
        "id": "o6bW_z1VJ804",
        "colab": {
          "base_uri": "https://localhost:8080/",
          "height": 68
        },
        "outputId": "dcacbb94-1601-4d02-b65f-ca0db0468bbe"
      },
      "source": [
        "ev = model.evaluate(X_train, Y_train)\n",
        "print(\"Final Loss:\", ev[0])\n",
        "print(\"Final Accuracy:\", ev[1]*100, \"%\")"
      ],
      "execution_count": null,
      "outputs": [
        {
          "output_type": "stream",
          "text": [
            "25000/25000 [==============================] - 5s 211us/step\n",
            "Final Loss: 0.16065524024248123\n",
            "Final Accuracy: 94.312 %\n"
          ],
          "name": "stdout"
        }
      ]
    },
    {
      "cell_type": "code",
      "metadata": {
        "id": "bzdkzaaCJ-Jc",
        "colab": {
          "base_uri": "https://localhost:8080/",
          "height": 68
        },
        "outputId": "5d8a4e0a-fcfe-452b-ce26-def1b1142e30"
      },
      "source": [
        "ev = model.evaluate(X_test, Y_test)\n",
        "print(\"Final Loss:\", ev[0])\n",
        "print(\"Final Accuracy:\", ev[1]*100, \"%\")\n",
        "\n",
        "# Final Accuracy: 87.592 % with 2 layers of 16 and 16 units, and 3 epochs\n",
        "# Final Accuracy: 88.62 % with 2 layers of 32 and 16 units, and 2 epochs\n",
        "# Final Accuracy: 87.932 % with 3 layers of 64, 32, 16 units, and 3 epochs\n",
        "# Final Accuracy: 87.364 % with 2 layers of 32, 16 units, 3 epochs\n",
        "\n",
        "# Final Accuracy: 87.688 % with 2 layers of 32, 16 units, 3 epochs and Adam optimizer\n",
        "# Final Accuracy: 88.712 % with 2 layers of 32, 16 units, 2 epochs and Adam optimizer\n",
        "# Final Accuracy: 88.244 % with 2 layers of 32, 16 units, 3 epochs and Adam optimizer\n"
      ],
      "execution_count": null,
      "outputs": [
        {
          "output_type": "stream",
          "text": [
            "25000/25000 [==============================] - 5s 216us/step\n",
            "Final Loss: 0.31867332604408266\n",
            "Final Accuracy: 87.068 %\n"
          ],
          "name": "stdout"
        }
      ]
    },
    {
      "cell_type": "code",
      "metadata": {
        "id": "eNDqZBGmLE42"
      },
      "source": [
        "Y_ = model.predict(X_test)"
      ],
      "execution_count": null,
      "outputs": []
    },
    {
      "cell_type": "code",
      "metadata": {
        "id": "EXB-ZpTfMrR5",
        "colab": {
          "base_uri": "https://localhost:8080/",
          "height": 136
        },
        "outputId": "b2a98ffb-290e-4f9a-ec69-377189f6f9ec"
      },
      "source": [
        "print(Y_)"
      ],
      "execution_count": null,
      "outputs": [
        {
          "output_type": "stream",
          "text": [
            "[[0.13197598]\n",
            " [0.9989141 ]\n",
            " [0.57949156]\n",
            " ...\n",
            " [0.05497608]\n",
            " [0.07257593]\n",
            " [0.35558897]]\n"
          ],
          "name": "stdout"
        }
      ]
    },
    {
      "cell_type": "code",
      "metadata": {
        "id": "99ZxqVWCMtQA",
        "colab": {
          "base_uri": "https://localhost:8080/",
          "height": 136
        },
        "outputId": "78e8e133-accd-4727-8c2f-e66244138ff3"
      },
      "source": [
        "Y_[Y_ >= 0.5] = 1\n",
        "Y_[Y_ < 0.5] = 0\n",
        "print(Y_)"
      ],
      "execution_count": null,
      "outputs": [
        {
          "output_type": "stream",
          "text": [
            "[[0.]\n",
            " [1.]\n",
            " [1.]\n",
            " ...\n",
            " [0.]\n",
            " [0.]\n",
            " [0.]]\n"
          ],
          "name": "stdout"
        }
      ]
    },
    {
      "cell_type": "code",
      "metadata": {
        "id": "87gGwKcRNBli",
        "colab": {
          "base_uri": "https://localhost:8080/",
          "height": 34
        },
        "outputId": "adefb1be-66da-4e0a-de6d-3eb454ae6e6a"
      },
      "source": [
        "np.sum(Y_.reshape(25000,) == Y_test)/Y_test.shape[0]*100"
      ],
      "execution_count": null,
      "outputs": [
        {
          "output_type": "execute_result",
          "data": {
            "text/plain": [
              "85.7"
            ]
          },
          "metadata": {
            "tags": []
          },
          "execution_count": 48
        }
      ]
    },
    {
      "cell_type": "code",
      "metadata": {
        "id": "9F5XW6XsNMRv",
        "colab": {
          "base_uri": "https://localhost:8080/",
          "height": 34
        },
        "outputId": "85e1f01c-9ca8-4d06-b327-2ac5a800f075"
      },
      "source": [
        "Y_test"
      ],
      "execution_count": null,
      "outputs": [
        {
          "output_type": "execute_result",
          "data": {
            "text/plain": [
              "array([0., 1., 1., ..., 0., 0., 0.], dtype=float32)"
            ]
          },
          "metadata": {
            "tags": []
          },
          "execution_count": 49
        }
      ]
    },
    {
      "cell_type": "code",
      "metadata": {
        "id": "2D6TN_FcN16J"
      },
      "source": [
        ""
      ],
      "execution_count": null,
      "outputs": []
    }
  ]
}